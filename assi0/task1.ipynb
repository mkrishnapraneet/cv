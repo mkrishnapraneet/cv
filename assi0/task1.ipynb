{
 "cells": [
  {
   "cell_type": "markdown",
   "metadata": {},
   "source": [
    "Video -> Image\n",
    "\n",
    "Image -> Video"
   ]
  },
  {
   "cell_type": "code",
   "execution_count": 16,
   "metadata": {},
   "outputs": [],
   "source": [
    "import cv2"
   ]
  },
  {
   "cell_type": "code",
   "execution_count": 17,
   "metadata": {},
   "outputs": [],
   "source": [
    "'''Video to Images'''\n",
    "\n",
    "# capture video from path \n",
    "cam = cv2.VideoCapture(\"./vid2img/game.mp4\") \n",
    "\n",
    "curFrame = 0\n",
    "\n",
    "while(True): \n",
    "\t\n",
    "    # read from frame \n",
    "    retVal, frame = cam.read()\n",
    "    if retVal:\n",
    "        name = './vid2img/frame' + str(curFrame) + '.jpg'\n",
    "        cv2.imwrite(name, frame) \n",
    "        curFrame += 1\n",
    "    else:\n",
    "\t\t# break if video is not left\n",
    "        break\n",
    "\n",
    "cam.release() \n",
    "cv2.destroyAllWindows() \n"
   ]
  },
  {
   "cell_type": "code",
   "execution_count": null,
   "metadata": {},
   "outputs": [],
   "source": []
  }
 ],
 "metadata": {
  "kernelspec": {
   "display_name": "Python 3",
   "language": "python",
   "name": "python3"
  },
  "language_info": {
   "codemirror_mode": {
    "name": "ipython",
    "version": 3
   },
   "file_extension": ".py",
   "mimetype": "text/x-python",
   "name": "python",
   "nbconvert_exporter": "python",
   "pygments_lexer": "ipython3",
   "version": "3.10.12"
  }
 },
 "nbformat": 4,
 "nbformat_minor": 2
}
