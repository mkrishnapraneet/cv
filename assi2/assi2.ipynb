{
 "cells": [
  {
   "cell_type": "markdown",
   "metadata": {},
   "source": [
    "Computer Vision : Assignment - 2\n",
    "\n",
    "Krishna Praneet Mulukutla\n",
    "\n",
    "2020113010"
   ]
  },
  {
   "cell_type": "markdown",
   "metadata": {},
   "source": [
    "Part 1: SIFT-BoVW-SVM"
   ]
  },
  {
   "cell_type": "code",
   "execution_count": 182,
   "metadata": {},
   "outputs": [],
   "source": [
    "import numpy as np\n",
    "import matplotlib.pyplot as plt\n",
    "import torch\n",
    "from torchvision import datasets, transforms\n",
    "import cv2 as cv\n",
    "from sklearn.cluster import KMeans\n",
    "from sklearn.svm import LinearSVC\n",
    "from sklearn.metrics import accuracy_score\n",
    "\n",
    "import wandb"
   ]
  },
  {
   "cell_type": "code",
   "execution_count": 183,
   "metadata": {},
   "outputs": [
    {
     "data": {
      "text/plain": [
       "<torch._C.Generator at 0x7fdb36555bf0>"
      ]
     },
     "execution_count": 183,
     "metadata": {},
     "output_type": "execute_result"
    }
   ],
   "source": [
    "# random seed\n",
    "np.random.seed(42)\n",
    "torch.manual_seed(42)"
   ]
  },
  {
   "cell_type": "code",
   "execution_count": 184,
   "metadata": {},
   "outputs": [
    {
     "name": "stdout",
     "output_type": "stream",
     "text": [
      "Number of train samples :  60000\n",
      "Number of train samples :  10000\n"
     ]
    },
    {
     "data": {
      "image/png": "[encoded data removed]",
      "text/plain": [
       "<Figure size 1000x100 with 10 Axes>"
      ]
     },
     "metadata": {},
     "output_type": "display_data"
    }
   ],
   "source": [
    "'''Load the MNIST dataset'''\n",
    "mnist_train = datasets.MNIST(root='./datasets', train=True, download=True, transform=None)\n",
    "mnist_test = datasets.MNIST(root='./datasets', train=False, download=True, transform=None)\n",
    "print(\"Number of train samples : \" , len(mnist_train))\n",
    "print(\"Number of train samples : \" , len(mnist_test))\n",
    "\n",
    "# display the first 10 images\n",
    "fig, axs = plt.subplots(1, 10, figsize=(10, 1))\n",
    "for i in range(10):\n",
    "    axs[i].imshow(mnist_train[i][0], cmap='gray')\n",
    "    axs[i].axis('off')\n",
    "plt.show()"
   ]
  },
  {
   "cell_type": "code",
   "execution_count": 185,
   "metadata": {},
   "outputs": [],
   "source": [
    "'''SIFT feature extraction for the train set'''\n",
    "# # detect and compute SIFT features for all train images\n",
    "# key_point_list = []         # list of key points for each image\n",
    "# descriptor_list = []        # list of descriptors for each image\n",
    "# train_features = []         # list of all descriptors\n",
    "# train_labels = []           # list of labels for each image (one label per image)\n",
    "\n",
    "# # classify test images\n",
    "# key_point_list_test = []         # list of key points for each image\n",
    "# descriptor_list_test = []        # list of descriptors for each image\n",
    "# test_features = []               # list of all descriptors\n",
    "# test_labels = []                 # list of labels for each image (one label per image)\n",
    "\n",
    "def extract_sift_features(nfeatures=0, sigma=1.6):\n",
    "    sift = cv.SIFT_create(nfeatures=nfeatures, sigma=sigma)\n",
    "\n",
    "    global key_point_list, descriptor_list, train_features, train_labels\n",
    "    global key_point_list_test, descriptor_list_test, test_features, test_labels\n",
    "\n",
    "    key_point_list = []         # list of key points for each image\n",
    "    descriptor_list = []        # list of descriptors for each image\n",
    "    train_features = []         # list of all descriptors\n",
    "    train_labels = []           # list of labels for each image (one label per image)\n",
    "\n",
    "    key_point_list_test = []         # list of key points for each image\n",
    "    descriptor_list_test = []        # list of descriptors for each image\n",
    "    test_features = []               # list of all descriptors\n",
    "    test_labels = []                 # list of labels for each image (one label per image)\n",
    "\n",
    "\n",
    "    for i in range(len(mnist_train)):\n",
    "        img = np.array(mnist_train[i][0])\n",
    "        kp, des = sift.detectAndCompute(img, None)\n",
    "        if des is not None:\n",
    "            key_point_list.append(kp)\n",
    "            descriptor_list.append(des)\n",
    "            train_labels.append(mnist_train[i][1])\n",
    "            train_features.extend(des)\n",
    "        else:\n",
    "            key_point_list.append([])\n",
    "            descriptor_list.append([])\n",
    "            train_labels.append(mnist_train[i][1])\n",
    "    train_features = np.array(train_features)\n",
    "    train_labels = np.array(train_labels)\n",
    "\n",
    "    print(\"Number of elements in key_point_list : \", len(key_point_list))\n",
    "    print(\"Number of elements in descriptor_list : \", len(descriptor_list))\n",
    "    print(\"Number of train features : \", train_features.shape)\n",
    "    print(\"Number of train labels : \", train_labels.shape)\n",
    "    print()\n",
    "\n",
    "\n",
    "    '''SIFT feature extraction for the test set'''\n",
    "\n",
    "    for i in range(len(mnist_test)):\n",
    "        img = np.array(mnist_test[i][0])\n",
    "        kp, des = sift.detectAndCompute(img, None)\n",
    "        if des is not None:\n",
    "            key_point_list_test.append(kp)\n",
    "            descriptor_list_test.append(des)\n",
    "            test_labels.append(mnist_test[i][1])\n",
    "            test_features.extend(des)\n",
    "        else:\n",
    "            key_point_list_test.append([])\n",
    "            descriptor_list_test.append([])\n",
    "            test_labels.append(mnist_test[i][1])\n",
    "    test_features = np.array(test_features)\n",
    "    test_labels = np.array(test_labels)\n",
    "\n",
    "    print(\"Number of elements in key_point_list : \", len(key_point_list_test))\n",
    "    print(\"Number of elements in descriptor_list : \", len(descriptor_list_test))\n",
    "    print(\"Number of test features : \", test_features.shape)\n",
    "    print(\"Number of test labels : \", test_labels.shape)\n",
    "    print()"
   ]
  },
  {
   "cell_type": "code",
   "execution_count": 186,
   "metadata": {},
   "outputs": [],
   "source": [
    "def cluster_features(k, train_features):\n",
    "    # use k means to cluster the features\n",
    "    kmeans = KMeans(n_clusters=k, random_state=42, n_init=4)\n",
    "    kmeans.fit(train_features)\n",
    "    print(\"Number of cluster centers : \", kmeans.cluster_centers_.shape[0])\n",
    "    print(\"Dimesion of cluster centers : \", kmeans.cluster_centers_.shape[1])\n",
    "    print()\n",
    "    return kmeans\n",
    "\n",
    "def make_histograms(descriptor_list, kmeans, k):\n",
    "    # make k sized histogram for each image\n",
    "    histograms = []\n",
    "    for i in range(len(descriptor_list)):\n",
    "        if len(descriptor_list[i]) == 0:\n",
    "            histograms.append(np.zeros(k))\n",
    "        else:\n",
    "            labels = kmeans.predict(descriptor_list[i])\n",
    "            hist, _ = np.histogram(labels, bins=k, range=(0, k))\n",
    "            histograms.append(hist)\n",
    "    histograms = np.array(histograms)\n",
    "    print(\"Shape of train histograms : \", histograms.shape)\n",
    "    print()\n",
    "    return histograms\n",
    "\n",
    "def train_SVM(train_histograms, train_labels, c=1.0):\n",
    "    # train a linear SVM for 10-way classification using the histograms\n",
    "    svm = LinearSVC(random_state=42, max_iter=10000)\n",
    "    svm.fit(train_histograms, train_labels)\n",
    "    return svm\n",
    "\n",
    "def test_SVM(svm, histograms, labels, testOrTrain='Test'):\n",
    "    acc = accuracy_score(labels, svm.predict(histograms))\n",
    "    print(testOrTrain, \"Accuracy : \", acc)\n",
    "    print('-------------------------------------')\n",
    "    return acc"
   ]
  },
  {
   "cell_type": "code",
   "execution_count": 174,
   "metadata": {},
   "outputs": [
    {
     "ename": "UnboundLocalError",
     "evalue": "local variable 'key_point_list' referenced before assignment",
     "output_type": "error",
     "traceback": [
      "\u001b[0;31m---------------------------------------------------------------------------\u001b[0m",
      "\u001b[0;31mUnboundLocalError\u001b[0m                         Traceback (most recent call last)",
      "Cell \u001b[0;32mIn[174], line 6\u001b[0m\n\u001b[1;32m      3\u001b[0m k_vals \u001b[38;5;241m=\u001b[39m [\u001b[38;5;241m2\u001b[39m, \u001b[38;5;241m4\u001b[39m, \u001b[38;5;241m10\u001b[39m, \u001b[38;5;241m50\u001b[39m, \u001b[38;5;241m100\u001b[39m, \u001b[38;5;241m500\u001b[39m]\n\u001b[1;32m      4\u001b[0m accuracies \u001b[38;5;241m=\u001b[39m np\u001b[38;5;241m.\u001b[39mzeros((\u001b[38;5;28mlen\u001b[39m(k_vals), \u001b[38;5;241m2\u001b[39m))\n\u001b[0;32m----> 6\u001b[0m \u001b[43mextract_sift_features\u001b[49m\u001b[43m(\u001b[49m\u001b[43m)\u001b[49m\n\u001b[1;32m      8\u001b[0m \u001b[38;5;28;01mfor\u001b[39;00m k \u001b[38;5;129;01min\u001b[39;00m k_vals:\n\u001b[1;32m      9\u001b[0m     \u001b[38;5;28mprint\u001b[39m(\u001b[38;5;124m\"\u001b[39m\u001b[38;5;124mk = \u001b[39m\u001b[38;5;124m\"\u001b[39m, k)\n",
      "Cell \u001b[0;32mIn[172], line 17\u001b[0m, in \u001b[0;36mextract_sift_features\u001b[0;34m(nfeatures, sigma)\u001b[0m\n\u001b[1;32m     14\u001b[0m \u001b[38;5;28;01mdef\u001b[39;00m \u001b[38;5;21mextract_sift_features\u001b[39m(nfeatures\u001b[38;5;241m=\u001b[39m\u001b[38;5;241m0\u001b[39m, sigma\u001b[38;5;241m=\u001b[39m\u001b[38;5;241m1.6\u001b[39m):\n\u001b[1;32m     15\u001b[0m     sift \u001b[38;5;241m=\u001b[39m cv\u001b[38;5;241m.\u001b[39mSIFT_create(nfeatures\u001b[38;5;241m=\u001b[39mnfeatures, sigma\u001b[38;5;241m=\u001b[39msigma)\n\u001b[0;32m---> 17\u001b[0m     key_point_list \u001b[38;5;241m=\u001b[39m \u001b[43mkey_point_list\u001b[49m\n\u001b[1;32m     18\u001b[0m     descriptor_list \u001b[38;5;241m=\u001b[39m descriptor_list\n\u001b[1;32m     19\u001b[0m     train_features \u001b[38;5;241m=\u001b[39m train_features\n",
      "\u001b[0;31mUnboundLocalError\u001b[0m: local variable 'key_point_list' referenced before assignment"
     ]
    }
   ],
   "source": [
    "'''Training and testing a linear SVM using histogram made using SIFT features'''\n",
    "\n",
    "k_vals = [2, 4, 10, 50, 100, 500]\n",
    "accuracies = np.zeros((len(k_vals), 2))\n",
    "\n",
    "extract_sift_features()\n",
    "\n",
    "for k in k_vals:\n",
    "    print(\"k = \", k)\n",
    "    \n",
    "    kmeans = cluster_features(k, train_features)\n",
    "    train_histograms = make_histograms(descriptor_list, kmeans, k)\n",
    "    svm = train_SVM(train_histograms, train_labels)\n",
    "    accuracies[k_vals.index(k), 0] = test_SVM(svm, train_histograms, train_labels, 'Train')\n",
    "\n",
    "    # test the SVM on the test set\n",
    "    test_histograms = make_histograms(descriptor_list_test, kmeans, k)\n",
    "    accuracies[k_vals.index(k), 1] = test_SVM(svm, test_histograms, test_labels, 'Test')\n",
    "\n",
    "plt.plot(k_vals, accuracies[:, 0], label='Train')\n",
    "plt.plot(k_vals, accuracies[:, 1], label='Test')\n",
    "plt.xlabel('Number of clusters')\n",
    "plt.ylabel('Accuracy')\n",
    "plt.title('Accuracy vs Number of clusters')\n",
    "plt.legend()\n",
    "plt.show()"
   ]
  },
  {
   "cell_type": "markdown",
   "metadata": {},
   "source": [
    "As we can see here, for the cluster numbers [2,4,10,50,100,500], we see an increase in the accuracy of the model as the number of clusters increases. Moreover, we also see that the accuracy seems to reach a saturation point. That is, the increase in the accuracy is not as significant as the number of clusters increases for large values of clusters."
   ]
  },
  {
   "cell_type": "code",
   "execution_count": 187,
   "metadata": {},
   "outputs": [],
   "source": [
    "part1_Hyp = []  # each element is a list containing [nfeatures, sigma, c]\n",
    "part1_Hyp.append([0, 1.6, 1.0])\n",
    "part1_Hyp.append([0, 1.6, 0.1])\n",
    "part1_Hyp.append([0, 1.6, 10.0])\n",
    "part1_Hyp.append([0, 0.8, 1.0])\n",
    "part1_Hyp.append([0, 3.2, 1.0])\n",
    "part1_Hyp.append([100, 1.6, 1.0])"
   ]
  },
  {
   "cell_type": "code",
   "execution_count": 188,
   "metadata": {},
   "outputs": [
    {
     "name": "stdout",
     "output_type": "stream",
     "text": [
      "nfeatures =  0  sigma =  1.6  c =  1.0\n",
      "Number of elements in key_point_list :  60000\n",
      "Number of elements in descriptor_list :  60000\n",
      "Number of train features :  (469496, 128)\n",
      "Number of train labels :  (60000,)\n",
      "\n",
      "Number of elements in key_point_list :  10000\n",
      "Number of elements in descriptor_list :  10000\n",
      "Number of test features :  (78515, 128)\n",
      "Number of test labels :  (10000,)\n",
      "\n",
      "Number of cluster centers :  100\n",
      "Dimesion of cluster centers :  128\n",
      "\n",
      "Shape of train histograms :  (60000, 100)\n",
      "\n",
      "Train Accuracy :  0.7304333333333334\n",
      "-------------------------------------\n",
      "Shape of train histograms :  (10000, 100)\n",
      "\n",
      "Test Accuracy :  0.7299\n",
      "-------------------------------------\n",
      "nfeatures =  0  sigma =  1.6  c =  0.1\n",
      "Number of elements in key_point_list :  60000\n",
      "Number of elements in descriptor_list :  60000\n",
      "Number of train features :  (469496, 128)\n",
      "Number of train labels :  (60000,)\n",
      "\n",
      "Number of elements in key_point_list :  10000\n",
      "Number of elements in descriptor_list :  10000\n",
      "Number of test features :  (78515, 128)\n",
      "Number of test labels :  (10000,)\n",
      "\n",
      "Number of cluster centers :  100\n",
      "Dimesion of cluster centers :  128\n",
      "\n",
      "Shape of train histograms :  (60000, 100)\n",
      "\n",
      "Train Accuracy :  0.7303833333333334\n",
      "-------------------------------------\n",
      "Shape of train histograms :  (10000, 100)\n",
      "\n",
      "Test Accuracy :  0.7307\n",
      "-------------------------------------\n",
      "nfeatures =  0  sigma =  1.6  c =  10.0\n",
      "Number of elements in key_point_list :  60000\n",
      "Number of elements in descriptor_list :  60000\n",
      "Number of train features :  (469496, 128)\n",
      "Number of train labels :  (60000,)\n",
      "\n",
      "Number of elements in key_point_list :  10000\n",
      "Number of elements in descriptor_list :  10000\n",
      "Number of test features :  (78515, 128)\n",
      "Number of test labels :  (10000,)\n",
      "\n",
      "Number of cluster centers :  100\n",
      "Dimesion of cluster centers :  128\n",
      "\n",
      "Shape of train histograms :  (60000, 100)\n",
      "\n",
      "Train Accuracy :  0.7304333333333334\n",
      "-------------------------------------\n",
      "Shape of train histograms :  (10000, 100)\n",
      "\n",
      "Test Accuracy :  0.7303\n",
      "-------------------------------------\n",
      "nfeatures =  0  sigma =  0.8  c =  1.0\n",
      "Number of elements in key_point_list :  60000\n",
      "Number of elements in descriptor_list :  60000\n",
      "Number of train features :  (1606974, 128)\n",
      "Number of train labels :  (60000,)\n",
      "\n",
      "Number of elements in key_point_list :  10000\n",
      "Number of elements in descriptor_list :  10000\n",
      "Number of test features :  (263101, 128)\n",
      "Number of test labels :  (10000,)\n",
      "\n",
      "Number of cluster centers :  100\n",
      "Dimesion of cluster centers :  128\n",
      "\n",
      "Shape of train histograms :  (60000, 100)\n",
      "\n"
     ]
    },
    {
     "name": "stderr",
     "output_type": "stream",
     "text": [
      "/home/prani/.local/lib/python3.10/site-packages/sklearn/svm/_base.py:1244: ConvergenceWarning: Liblinear failed to converge, increase the number of iterations.\n",
      "  warnings.warn(\n"
     ]
    },
    {
     "name": "stdout",
     "output_type": "stream",
     "text": [
      "Train Accuracy :  0.7813\n",
      "-------------------------------------\n",
      "Shape of train histograms :  (10000, 100)\n",
      "\n",
      "Test Accuracy :  0.78\n",
      "-------------------------------------\n",
      "nfeatures =  0  sigma =  3.2  c =  1.0\n",
      "Number of elements in key_point_list :  60000\n",
      "Number of elements in descriptor_list :  60000\n",
      "Number of train features :  (81460, 128)\n",
      "Number of train labels :  (60000,)\n",
      "\n",
      "Number of elements in key_point_list :  10000\n",
      "Number of elements in descriptor_list :  10000\n",
      "Number of test features :  (13944, 128)\n",
      "Number of test labels :  (10000,)\n",
      "\n",
      "Number of cluster centers :  100\n",
      "Dimesion of cluster centers :  128\n",
      "\n",
      "Shape of train histograms :  (60000, 100)\n",
      "\n",
      "Train Accuracy :  0.48225\n",
      "-------------------------------------\n",
      "Shape of train histograms :  (10000, 100)\n",
      "\n",
      "Test Accuracy :  0.4906\n",
      "-------------------------------------\n",
      "nfeatures =  100  sigma =  1.6  c =  1.0\n",
      "Number of elements in key_point_list :  60000\n",
      "Number of elements in descriptor_list :  60000\n",
      "Number of train features :  (469496, 128)\n",
      "Number of train labels :  (60000,)\n",
      "\n",
      "Number of elements in key_point_list :  10000\n",
      "Number of elements in descriptor_list :  10000\n",
      "Number of test features :  (78515, 128)\n",
      "Number of test labels :  (10000,)\n",
      "\n",
      "Number of cluster centers :  100\n",
      "Dimesion of cluster centers :  128\n",
      "\n",
      "Shape of train histograms :  (60000, 100)\n",
      "\n",
      "Train Accuracy :  0.7305\n",
      "-------------------------------------\n",
      "Shape of train histograms :  (10000, 100)\n",
      "\n",
      "Test Accuracy :  0.7301\n",
      "-------------------------------------\n"
     ]
    },
    {
     "data": {
      "image/png": "[encoded data removed]",
      "text/plain": [
       "<Figure size 640x480 with 1 Axes>"
      ]
     },
     "metadata": {},
     "output_type": "display_data"
    }
   ],
   "source": [
    "accs = np.zeros((len(part1_Hyp), 2))\n",
    "\n",
    "for hyp in part1_Hyp:\n",
    "    print(\"nfeatures = \", hyp[0], \" sigma = \", hyp[1], \" c = \", hyp[2])\n",
    "    extract_sift_features(hyp[0], hyp[1])\n",
    "    kmeans = cluster_features(100, train_features)\n",
    "    train_histograms = make_histograms(descriptor_list, kmeans, 100)\n",
    "    svm = train_SVM(train_histograms, train_labels, hyp[2])\n",
    "    accs[part1_Hyp.index(hyp), 0] = test_SVM(svm, train_histograms, train_labels, 'Train')\n",
    "\n",
    "    test_histograms = make_histograms(descriptor_list_test, kmeans, 100)\n",
    "    accs[part1_Hyp.index(hyp), 1] = test_SVM(svm, test_histograms, test_labels, 'Test')\n",
    "\n",
    "plt.plot(range(len(part1_Hyp)), accs[:, 0], label='Train')\n",
    "plt.plot(range(len(part1_Hyp)), accs[:, 1], label='Test')\n",
    "plt.xlabel('Hyperparameters')\n",
    "plt.ylabel('Accuracy')\n",
    "plt.title('Accuracy vs Hyperparameters')\n",
    "plt.legend()\n",
    "plt.show()\n"
   ]
  },
  {
   "cell_type": "markdown",
   "metadata": {},
   "source": [
    "Part 2: CNNs and Transformers"
   ]
  },
  {
   "cell_type": "code",
   "execution_count": 156,
   "metadata": {},
   "outputs": [
    {
     "name": "stdout",
     "output_type": "stream",
     "text": [
      "Using device: cuda\n"
     ]
    }
   ],
   "source": [
    "device = torch.device('cuda' if torch.cuda.is_available() else 'cpu')\n",
    "print('Using device:', device)\n",
    "\n",
    "isSubset = False\n",
    "num_samples_per_class = 1800\n",
    "\n",
    "# get the dataset and transform the images to tensors and normalize them\n",
    "transform = transforms.Compose([transforms.ToTensor(), transforms.Normalize((0.5,), (0.5,))])\n",
    "mnist_train = datasets.MNIST(root='./datasets', train=True, download=True, transform=transform)\n",
    "mnist_test = datasets.MNIST(root='./datasets', train=False, download=True, transform=transform)\n",
    "\n",
    "def split_dataset(mnist_train, num_samples_per_class=1000):\n",
    "    # Split the dataset into separate subsets for each class\n",
    "    class_subsets = [[] for _ in range(10)]\n",
    "    for i in range(len(mnist_train)):\n",
    "        image, label = mnist_train[i]\n",
    "        class_subsets[label].append(i)\n",
    "\n",
    "    # Take a fixed number of samples from each class subset\n",
    "    balanced_subset_indices = []\n",
    "    for class_subset in class_subsets:\n",
    "        selected_indices = np.random.choice(class_subset, size=num_samples_per_class, replace=False)\n",
    "        balanced_subset_indices.extend(selected_indices)\n",
    "\n",
    "    # Create a Subset of the MNIST dataset with the balanced subset indices\n",
    "    balanced_subset = torch.utils.data.Subset(mnist_train, balanced_subset_indices)\n",
    "    return balanced_subset\n",
    "\n",
    "if isSubset:\n",
    "    mnist_train = split_dataset(mnist_train, num_samples_per_class)"
   ]
  },
  {
   "cell_type": "code",
   "execution_count": 157,
   "metadata": {},
   "outputs": [],
   "source": [
    "# implement LeNet to classify the images from the MNIST dataset\n",
    "class LeNet(torch.nn.Module):\n",
    "    def __init__(self, num_classes=10):\n",
    "        super(LeNet, self).__init__()\n",
    "        \n",
    "        # feature extraction\n",
    "        self.features = torch.nn.Sequential(\n",
    "            torch.nn.Conv2d(1, 6, kernel_size=5, padding=2),    # 28x28@1 -> 28x28@6\n",
    "            torch.nn.ReLU(),                                    # activation function\n",
    "            torch.nn.MaxPool2d(kernel_size=2),                  # 28x28@6 -> 14x14@6\n",
    "            torch.nn.Conv2d(6, 16, kernel_size=5),              # 14x14@6 -> 10x10@16\n",
    "            torch.nn.ReLU(),                                    # activation function\n",
    "            torch.nn.MaxPool2d(kernel_size=2)                   # 10x10@16 -> 5x5@16\n",
    "        )\n",
    "\n",
    "        # classifier\n",
    "        self.classifier = torch.nn.Sequential(\n",
    "            torch.nn.Linear(16*5*5, 120),                       # 16*5*5 -> 120\n",
    "            torch.nn.ReLU(),                                    # activation function\n",
    "            torch.nn.Linear(120, 84),                           # 120 -> 84\n",
    "            torch.nn.ReLU(),                                    # activation function\n",
    "            torch.nn.Linear(84, num_classes)                    # 84 -> 10\n",
    "        )\n",
    "\n",
    "    def forward(self, x):\n",
    "        x = self.features(x)\n",
    "        x = torch.flatten(x, 1)\n",
    "        probs = self.classifier(x)\n",
    "        probs = torch.nn.functional.softmax(probs, dim=-1)\n",
    "        return probs\n",
    "\n",
    "class LeNet_Double(torch.nn.Module):\n",
    "    def __init__(self, num_classes=10):\n",
    "        super(LeNet_Double, self).__init__()\n",
    "        \n",
    "        # feature extraction\n",
    "        self.features = torch.nn.Sequential(\n",
    "            torch.nn.Conv2d(1, 6, kernel_size=5, padding=2),    # 28x28@1 -> 28x28@6\n",
    "            torch.nn.ReLU(),                                    # activation function\n",
    "            torch.nn.Conv2d(6, 8, kernel_size=5, padding=2),    # 28x28@6 -> 28x28@8\n",
    "            torch.nn.ReLU(),                                    # activation function\n",
    "            torch.nn.MaxPool2d(kernel_size=2),                  # 28x28@8 -> 14x14@8\n",
    "            torch.nn.Conv2d(8, 12, kernel_size=5, padding=2),   # 14x14@8 -> 14x14@12\n",
    "            torch.nn.ReLU(),                                    # activation function\n",
    "            torch.nn.Conv2d(12, 16, kernel_size=5),             # 14x14@12 -> 10x10@16\n",
    "            torch.nn.ReLU(),                                    # activation function\n",
    "            torch.nn.MaxPool2d(kernel_size=2)                   # 10x10@16 -> 5x5@16\n",
    "        )\n",
    "\n",
    "        # classifier\n",
    "        self.classifier = torch.nn.Sequential(\n",
    "            torch.nn.Linear(16*5*5, 120),                       # 16*5*5 -> 120\n",
    "            torch.nn.ReLU(),                                    # activation function\n",
    "            torch.nn.Linear(120, 84),                           # 120 -> 84\n",
    "            torch.nn.ReLU(),                                    # activation function\n",
    "            torch.nn.Linear(84, num_classes)                    # 84 -> 10\n",
    "        )\n",
    "\n",
    "    def forward(self, x):\n",
    "        x = self.features(x)\n",
    "        x = torch.flatten(x, 1)\n",
    "        probs = self.classifier(x)\n",
    "        probs = torch.nn.functional.softmax(probs, dim=-1)\n",
    "        return probs\n",
    "\n",
    "# create the model\n",
    "model = LeNet().to(device)\n",
    "\n",
    "# uncomment the following 2 lines to use the double LeNet model\n",
    "# model_double = LeNet_Double().to(device)\n",
    "# model = model_double"
   ]
  },
  {
   "cell_type": "code",
   "execution_count": 158,
   "metadata": {},
   "outputs": [],
   "source": [
    "# 8 different hyperparameter settings\n",
    "hyp_set = []\n",
    "hyp_set.append(dict(learning_rate=0.01, batch_size=64, epochs=10, optimizer='adam', random_seed=42))\n",
    "hyp_set.append(dict(learning_rate=0.01, batch_size=64, epochs=10, optimizer='sgd', random_seed=42))\n",
    "hyp_set.append(dict(learning_rate=0.01, batch_size=128, epochs=10, optimizer='adam', random_seed=42))\n",
    "hyp_set.append(dict(learning_rate=0.01, batch_size=128, epochs=10, optimizer='sgd', random_seed=42))\n",
    "hyp_set.append(dict(learning_rate=0.001, batch_size=64, epochs=10, optimizer='adam', random_seed=42))\n",
    "hyp_set.append(dict(learning_rate=0.001, batch_size=64, epochs=10, optimizer='sgd', random_seed=42))\n",
    "hyp_set.append(dict(learning_rate=0.001, batch_size=128, epochs=10, optimizer='adam', random_seed=42))\n",
    "hyp_set.append(dict(learning_rate=0.001, batch_size=128, epochs=10, optimizer='sgd', random_seed=42))"
   ]
  },
  {
   "cell_type": "code",
   "execution_count": 159,
   "metadata": {},
   "outputs": [
    {
     "data": {
      "text/html": [
       "wandb version 0.16.4 is available!  To upgrade, please run:\n",
       " $ pip install wandb --upgrade"
      ],
      "text/plain": [
       "<IPython.core.display.HTML object>"
      ]
     },
     "metadata": {},
     "output_type": "display_data"
    },
    {
     "data": {
      "text/html": [
       "Tracking run with wandb version 0.14.0"
      ],
      "text/plain": [
       "<IPython.core.display.HTML object>"
      ]
     },
     "metadata": {},
     "output_type": "display_data"
    },
    {
     "data": {
      "text/html": [
       "Run data is saved locally in <code>/home/prani/academics/fourth_year_sem2/cv/assi2/wandb/run-20240308_204406-vh1o08he</code>"
      ],
      "text/plain": [
       "<IPython.core.display.HTML object>"
      ]
     },
     "metadata": {},
     "output_type": "display_data"
    },
    {
     "data": {
      "text/html": [
       "Syncing run <strong><a href='https://wandb.ai/mkp/cv-assi2/runs/vh1o08he' target=\"_blank\">18.0K_samples</a></strong> to <a href='https://wandb.ai/mkp/cv-assi2' target=\"_blank\">Weights & Biases</a> (<a href='https://wandb.me/run' target=\"_blank\">docs</a>)<br/>"
      ],
      "text/plain": [
       "<IPython.core.display.HTML object>"
      ]
     },
     "metadata": {},
     "output_type": "display_data"
    },
    {
     "data": {
      "text/html": [
       " View project at <a href='https://wandb.ai/mkp/cv-assi2' target=\"_blank\">https://wandb.ai/mkp/cv-assi2</a>"
      ],
      "text/plain": [
       "<IPython.core.display.HTML object>"
      ]
     },
     "metadata": {},
     "output_type": "display_data"
    },
    {
     "data": {
      "text/html": [
       " View run at <a href='https://wandb.ai/mkp/cv-assi2/runs/vh1o08he' target=\"_blank\">https://wandb.ai/mkp/cv-assi2/runs/vh1o08he</a>"
      ],
      "text/plain": [
       "<IPython.core.display.HTML object>"
      ]
     },
     "metadata": {},
     "output_type": "display_data"
    }
   ],
   "source": [
    "# Hyperparameters\n",
    "config = hyp_set[4]\n",
    "\n",
    "# Initialize a new wandb run\n",
    "wandb.init(project=\"cv-assi2\", config=config, name='18.0K_samples')\n",
    "\n",
    "# Config is a variable that holds and saves hyperparameters and inputs\n",
    "config = wandb.config\n",
    "\n",
    "# Loss function\n",
    "criterion = torch.nn.CrossEntropyLoss()\n",
    "\n",
    "# Optimizer\n",
    "if config.optimizer == 'adam':\n",
    "    optimizer = torch.optim.Adam(model.parameters(), lr=config.learning_rate)\n",
    "else:\n",
    "    optimizer = torch.optim.SGD(model.parameters(), lr=config.learning_rate)"
   ]
  },
  {
   "cell_type": "code",
   "execution_count": 160,
   "metadata": {},
   "outputs": [],
   "source": [
    "# Data loaders\n",
    "train_loader = torch.utils.data.DataLoader(mnist_train, batch_size=config.batch_size, shuffle=True, num_workers=4)\n",
    "test_loader = torch.utils.data.DataLoader(mnist_test, batch_size=config.batch_size, shuffle=False, num_workers=4)"
   ]
  },
  {
   "cell_type": "code",
   "execution_count": 161,
   "metadata": {},
   "outputs": [
    {
     "data": {
      "text/html": [
       "Waiting for W&B process to finish... <strong style=\"color:green\">(success).</strong>"
      ],
      "text/plain": [
       "<IPython.core.display.HTML object>"
      ]
     },
     "metadata": {},
     "output_type": "display_data"
    },
    {
     "data": {
      "application/vnd.jupyter.widget-view+json": {
       "model_id": "5d60494b3844449dad62315cb4d97598",
       "version_major": 2,
       "version_minor": 0
      },
      "text/plain": [
       "VBox(children=(Label(value='0.003 MB of 0.003 MB uploaded (0.000 MB deduped)\\r'), FloatProgress(value=1.0, max…"
      ]
     },
     "metadata": {},
     "output_type": "display_data"
    },
    {
     "data": {
      "text/html": [
       "<style>\n",
       "    table.wandb td:nth-child(1) { padding: 0 10px; text-align: left ; width: auto;} td:nth-child(2) {text-align: left ; width: 100%}\n",
       "    .wandb-row { display: flex; flex-direction: row; flex-wrap: wrap; justify-content: flex-start; width: 100% }\n",
       "    .wandb-col { display: flex; flex-direction: column; flex-basis: 100%; flex: 1; padding: 10px; }\n",
       "    </style>\n",
       "<div class=\"wandb-row\"><div class=\"wandb-col\"><h3>Run history:</h3><br/><table class=\"wandb\"><tr><td>Epoch</td><td>▁▂▃▃▄▅▆▆▇█</td></tr><tr><td>Test Accuracy</td><td>▁▇▇▇██████</td></tr><tr><td>Test Loss</td><td>█▃▂▂▁▁▁▁▁▁</td></tr><tr><td>Train Accuracy</td><td>▁▆▇███████</td></tr><tr><td>Train Loss</td><td>█▃▂▁▁▁▁▁▁▁</td></tr></table><br/></div><div class=\"wandb-col\"><h3>Run summary:</h3><br/><table class=\"wandb\"><tr><td>Epoch</td><td>9</td></tr><tr><td>Test Accuracy</td><td>0.9798</td></tr><tr><td>Test Loss</td><td>1.48228</td></tr><tr><td>Train Accuracy</td><td>0.98222</td></tr><tr><td>Train Loss</td><td>1.47925</td></tr></table><br/></div></div>"
      ],
      "text/plain": [
       "<IPython.core.display.HTML object>"
      ]
     },
     "metadata": {},
     "output_type": "display_data"
    },
    {
     "data": {
      "text/html": [
       " View run <strong style=\"color:#cdcd00\">18.0K_samples</strong> at: <a href='https://wandb.ai/mkp/cv-assi2/runs/vh1o08he' target=\"_blank\">https://wandb.ai/mkp/cv-assi2/runs/vh1o08he</a><br/>Synced 5 W&B file(s), 0 media file(s), 0 artifact file(s) and 0 other file(s)"
      ],
      "text/plain": [
       "<IPython.core.display.HTML object>"
      ]
     },
     "metadata": {},
     "output_type": "display_data"
    },
    {
     "data": {
      "text/html": [
       "Find logs at: <code>./wandb/run-20240308_204406-vh1o08he/logs</code>"
      ],
      "text/plain": [
       "<IPython.core.display.HTML object>"
      ]
     },
     "metadata": {},
     "output_type": "display_data"
    }
   ],
   "source": [
    "# Training\n",
    "for epoch in range(config.epochs):\n",
    "    model.train()\n",
    "    train_loss = 0.0\n",
    "    train_acc = 0.0\n",
    "    for inputs, labels in train_loader:\n",
    "        inputs, labels = inputs.to(device), labels.to(device)\n",
    "        # forward and backward pass\n",
    "        optimizer.zero_grad()\n",
    "        outputs = model(inputs)\n",
    "        loss = criterion(outputs, labels)\n",
    "        loss.backward()\n",
    "        # parameter update\n",
    "        optimizer.step()\n",
    "        # loss calculation\n",
    "        train_loss += loss.item() * inputs.size(0)\n",
    "        _, preds = torch.max(outputs, 1)\n",
    "        train_acc += torch.sum(preds == labels.data)\n",
    "\n",
    "    # calculate average loss and accuracy\n",
    "    train_loss = train_loss / len(mnist_train)\n",
    "    train_acc = train_acc.double() / len(mnist_train)\n",
    "\n",
    "    # Testing\n",
    "    model.eval()\n",
    "    test_loss = 0.0\n",
    "    test_acc = 0.0\n",
    "    for inputs, labels in test_loader:\n",
    "        inputs, labels = inputs.to(device), labels.to(device)\n",
    "        outputs = model(inputs)\n",
    "        loss = criterion(outputs, labels)\n",
    "        test_loss += loss.item() * inputs.size(0)\n",
    "        _, preds = torch.max(outputs, 1)\n",
    "        test_acc += torch.sum(preds == labels.data)\n",
    "\n",
    "    # calculate average loss and accuracy\n",
    "    test_loss = test_loss / len(mnist_test)\n",
    "    test_acc = test_acc.double() / len(mnist_test)\n",
    "\n",
    "    # Log the loss and accuracy values at the end of each epoch\n",
    "    wandb.log({\n",
    "        \"Epoch\": epoch,\n",
    "        \"Train Loss\": train_loss,\n",
    "        \"Train Accuracy\": train_acc,\n",
    "        \"Test Loss\": test_loss,\n",
    "        \"Test Accuracy\": test_acc\n",
    "    })\n",
    "\n",
    "# Finish the run\n",
    "wandb.finish()"
   ]
  },
  {
   "cell_type": "code",
   "execution_count": null,
   "metadata": {},
   "outputs": [],
   "source": [
    "# use a 2-layer transformer model instead of the LeNet model\n",
    "class TransformerModel(torch.nn.Module):\n",
    "    def __init__(self, num_classes=10):\n",
    "        super(TransformerModel, self).__init__()\n",
    "        self.patch_size = 7\n",
    "        self.num_patches = (28/self.patch_size)**2\n",
    "    \n",
    "    "
   ]
  }
 ],
 "metadata": {
  "kernelspec": {
   "display_name": "Python 3",
   "language": "python",
   "name": "python3"
  },
  "language_info": {
   "codemirror_mode": {
    "name": "ipython",
    "version": 3
   },
   "file_extension": ".py",
   "mimetype": "text/x-python",
   "name": "python",
   "nbconvert_exporter": "python",
   "pygments_lexer": "ipython3",
   "version": "3.10.12"
  }
 },
 "nbformat": 4,
 "nbformat_minor": 2
}
