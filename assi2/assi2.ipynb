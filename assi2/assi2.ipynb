{
 "cells": [
  {
   "cell_type": "markdown",
   "metadata": {},
   "source": [
    "Computer Vision : Assignment - 2\n",
    "\n",
    "Krishna Praneet Mulukutla\n",
    "\n",
    "2020113010"
   ]
  },
  {
   "cell_type": "markdown",
   "metadata": {},
   "source": [
    "# Part 1: SIFT-BoVW-SVM"
   ]
  },
  {
   "cell_type": "code",
   "execution_count": 1,
   "metadata": {},
   "outputs": [],
   "source": [
    "import numpy as np\n",
    "import matplotlib.pyplot as plt\n",
    "import torch\n",
    "from torchvision import datasets, transforms\n",
    "import cv2 as cv\n",
    "from sklearn.cluster import KMeans\n",
    "from sklearn.svm import LinearSVC\n",
    "from sklearn.metrics import accuracy_score\n",
    "\n",
    "import wandb\n",
    "from einops import rearrange"
   ]
  },
  {
   "cell_type": "code",
   "execution_count": 2,
   "metadata": {},
   "outputs": [
    {
     "data": {
      "text/plain": [
       "<torch._C.Generator at 0x778d178cf590>"
      ]
     },
     "execution_count": 2,
     "metadata": {},
     "output_type": "execute_result"
    }
   ],
   "source": [
    "# random seed\n",
    "np.random.seed(42)\n",
    "torch.manual_seed(42)"
   ]
  },
  {
   "cell_type": "code",
   "execution_count": 3,
   "metadata": {},
   "outputs": [
    {
     "name": "stdout",
     "output_type": "stream",
     "text": [
      "Number of train samples :  60000\n",
      "Number of train samples :  10000\n"
     ]
    },
    {
     "data": {
      "image/png": "[encoded data removed]",
      "text/plain": [
       "<Figure size 1000x100 with 10 Axes>"
      ]
     },
     "metadata": {},
     "output_type": "display_data"
    }
   ],
   "source": [
    "'''Load the MNIST dataset'''\n",
    "mnist_train = datasets.MNIST(root='./datasets', train=True, download=True, transform=None)\n",
    "mnist_test = datasets.MNIST(root='./datasets', train=False, download=True, transform=None)\n",
    "print(\"Number of train samples : \" , len(mnist_train))\n",
    "print(\"Number of train samples : \" , len(mnist_test))\n",
    "\n",
    "# display the first 10 images\n",
    "fig, axs = plt.subplots(1, 10, figsize=(10, 1))\n",
    "for i in range(10):\n",
    "    axs[i].imshow(mnist_train[i][0], cmap='gray')\n",
    "    axs[i].axis('off')\n",
    "plt.show()"
   ]
  },
  {
   "cell_type": "code",
   "execution_count": 4,
   "metadata": {},
   "outputs": [],
   "source": [
    "'''SIFT feature extraction for the train set'''\n",
    "# # detect and compute SIFT features for all train images\n",
    "# key_point_list = []         # list of key points for each image\n",
    "# descriptor_list = []        # list of descriptors for each image\n",
    "# train_features = []         # list of all descriptors\n",
    "# train_labels = []           # list of labels for each image (one label per image)\n",
    "\n",
    "# # classify test images\n",
    "# key_point_list_test = []         # list of key points for each image\n",
    "# descriptor_list_test = []        # list of descriptors for each image\n",
    "# test_features = []               # list of all descriptors\n",
    "# test_labels = []                 # list of labels for each image (one label per image)\n",
    "\n",
    "def extract_sift_features(nfeatures=0, sigma=1.6):\n",
    "    sift = cv.SIFT_create(nfeatures=nfeatures, sigma=sigma)\n",
    "\n",
    "    global key_point_list, descriptor_list, train_features, train_labels\n",
    "    global key_point_list_test, descriptor_list_test, test_features, test_labels\n",
    "\n",
    "    key_point_list = []         # list of key points for each image\n",
    "    descriptor_list = []        # list of descriptors for each image\n",
    "    train_features = []         # list of all descriptors\n",
    "    train_labels = []           # list of labels for each image (one label per image)\n",
    "\n",
    "    key_point_list_test = []         # list of key points for each image\n",
    "    descriptor_list_test = []        # list of descriptors for each image\n",
    "    test_features = []               # list of all descriptors\n",
    "    test_labels = []                 # list of labels for each image (one label per image)\n",
    "\n",
    "\n",
    "    for i in range(len(mnist_train)):\n",
    "        img = np.array(mnist_train[i][0])\n",
    "        kp, des = sift.detectAndCompute(img, None)\n",
    "        if des is not None:\n",
    "            key_point_list.append(kp)\n",
    "            descriptor_list.append(des)\n",
    "            train_labels.append(mnist_train[i][1])\n",
    "            train_features.extend(des)\n",
    "        else:\n",
    "            key_point_list.append([])\n",
    "            descriptor_list.append([])\n",
    "            train_labels.append(mnist_train[i][1])\n",
    "    train_features = np.array(train_features)\n",
    "    train_labels = np.array(train_labels)\n",
    "\n",
    "    print(\"Number of elements in key_point_list : \", len(key_point_list))\n",
    "    print(\"Number of elements in descriptor_list : \", len(descriptor_list))\n",
    "    print(\"Number of train features : \", train_features.shape)\n",
    "    print(\"Number of train labels : \", train_labels.shape)\n",
    "    print()\n",
    "\n",
    "\n",
    "    '''SIFT feature extraction for the test set'''\n",
    "\n",
    "    for i in range(len(mnist_test)):\n",
    "        img = np.array(mnist_test[i][0])\n",
    "        kp, des = sift.detectAndCompute(img, None)\n",
    "        if des is not None:\n",
    "            key_point_list_test.append(kp)\n",
    "            descriptor_list_test.append(des)\n",
    "            test_labels.append(mnist_test[i][1])\n",
    "            test_features.extend(des)\n",
    "        else:\n",
    "            key_point_list_test.append([])\n",
    "            descriptor_list_test.append([])\n",
    "            test_labels.append(mnist_test[i][1])\n",
    "    test_features = np.array(test_features)\n",
    "    test_labels = np.array(test_labels)\n",
    "\n",
    "    print(\"Number of elements in key_point_list : \", len(key_point_list_test))\n",
    "    print(\"Number of elements in descriptor_list : \", len(descriptor_list_test))\n",
    "    print(\"Number of test features : \", test_features.shape)\n",
    "    print(\"Number of test labels : \", test_labels.shape)\n",
    "    print()"
   ]
  },
  {
   "cell_type": "code",
   "execution_count": 5,
   "metadata": {},
   "outputs": [],
   "source": [
    "def cluster_features(k, train_features):\n",
    "    # use k means to cluster the features\n",
    "    kmeans = KMeans(n_clusters=k, random_state=42, n_init=4)\n",
    "    kmeans.fit(train_features)\n",
    "    print(\"Number of cluster centers : \", kmeans.cluster_centers_.shape[0])\n",
    "    print(\"Dimesion of cluster centers : \", kmeans.cluster_centers_.shape[1])\n",
    "    print()\n",
    "    return kmeans\n",
    "\n",
    "def make_histograms(descriptor_list, kmeans, k):\n",
    "    # make k sized histogram for each image\n",
    "    histograms = []\n",
    "    for i in range(len(descriptor_list)):\n",
    "        if len(descriptor_list[i]) == 0:\n",
    "            histograms.append(np.zeros(k))\n",
    "        else:\n",
    "            labels = kmeans.predict(descriptor_list[i])\n",
    "            hist, _ = np.histogram(labels, bins=k, range=(0, k))\n",
    "            histograms.append(hist)\n",
    "    histograms = np.array(histograms)\n",
    "    print(\"Shape of train histograms : \", histograms.shape)\n",
    "    print()\n",
    "    return histograms\n",
    "\n",
    "def train_SVM(train_histograms, train_labels, c=1.0):\n",
    "    # train a linear SVM for 10-way classification using the histograms\n",
    "    svm = LinearSVC(random_state=42, max_iter=10000)\n",
    "    svm.fit(train_histograms, train_labels)\n",
    "    return svm\n",
    "\n",
    "def test_SVM(svm, histograms, labels, testOrTrain='Test'):\n",
    "    acc = accuracy_score(labels, svm.predict(histograms))\n",
    "    print(testOrTrain, \"Accuracy : \", acc)\n",
    "    print('-------------------------------------')\n",
    "    return acc"
   ]
  },
  {
   "cell_type": "code",
   "execution_count": 6,
   "metadata": {},
   "outputs": [
    {
     "name": "stdout",
     "output_type": "stream",
     "text": [
      "Number of elements in key_point_list :  60000\n",
      "Number of elements in descriptor_list :  60000\n",
      "Number of train features :  (469496, 128)\n",
      "Number of train labels :  (60000,)\n",
      "\n",
      "Number of elements in key_point_list :  10000\n",
      "Number of elements in descriptor_list :  10000\n",
      "Number of test features :  (78515, 128)\n",
      "Number of test labels :  (10000,)\n",
      "\n",
      "\n",
      "\n",
      "k =  2\n",
      "Number of cluster centers :  2\n",
      "Dimesion of cluster centers :  128\n",
      "\n",
      "Shape of train histograms :  (60000, 2)\n",
      "\n"
     ]
    },
    {
     "name": "stderr",
     "output_type": "stream",
     "text": [
      "/home/prani/.local/lib/python3.10/site-packages/sklearn/svm/_base.py:1244: ConvergenceWarning: Liblinear failed to converge, increase the number of iterations.\n",
      "  warnings.warn(\n"
     ]
    },
    {
     "name": "stdout",
     "output_type": "stream",
     "text": [
      "Train Accuracy :  0.21541666666666667\n",
      "-------------------------------------\n",
      "Shape of train histograms :  (10000, 2)\n",
      "\n",
      "Test Accuracy :  0.2188\n",
      "-------------------------------------\n",
      "\n",
      "\n",
      "k =  4\n",
      "Number of cluster centers :  4\n",
      "Dimesion of cluster centers :  128\n",
      "\n",
      "Shape of train histograms :  (60000, 4)\n",
      "\n",
      "Train Accuracy :  0.3070333333333333\n",
      "-------------------------------------\n",
      "Shape of train histograms :  (10000, 4)\n",
      "\n",
      "Test Accuracy :  0.3149\n",
      "-------------------------------------\n",
      "\n",
      "\n",
      "k =  10\n",
      "Number of cluster centers :  10\n",
      "Dimesion of cluster centers :  128\n",
      "\n",
      "Shape of train histograms :  (60000, 10)\n",
      "\n",
      "Train Accuracy :  0.39703333333333335\n",
      "-------------------------------------\n",
      "Shape of train histograms :  (10000, 10)\n",
      "\n",
      "Test Accuracy :  0.4006\n",
      "-------------------------------------\n",
      "\n",
      "\n",
      "k =  50\n",
      "Number of cluster centers :  50\n",
      "Dimesion of cluster centers :  128\n",
      "\n",
      "Shape of train histograms :  (60000, 50)\n",
      "\n",
      "Train Accuracy :  0.6462833333333333\n",
      "-------------------------------------\n",
      "Shape of train histograms :  (10000, 50)\n",
      "\n",
      "Test Accuracy :  0.65\n",
      "-------------------------------------\n",
      "\n",
      "\n",
      "k =  100\n",
      "Number of cluster centers :  100\n",
      "Dimesion of cluster centers :  128\n",
      "\n",
      "Shape of train histograms :  (60000, 100)\n",
      "\n",
      "Train Accuracy :  0.7305\n",
      "-------------------------------------\n",
      "Shape of train histograms :  (10000, 100)\n",
      "\n",
      "Test Accuracy :  0.7296\n",
      "-------------------------------------\n",
      "\n",
      "\n",
      "k =  500\n",
      "Number of cluster centers :  500\n",
      "Dimesion of cluster centers :  128\n",
      "\n",
      "Shape of train histograms :  (60000, 500)\n",
      "\n",
      "Train Accuracy :  0.8481333333333333\n",
      "-------------------------------------\n",
      "Shape of train histograms :  (10000, 500)\n",
      "\n",
      "Test Accuracy :  0.8376\n",
      "-------------------------------------\n"
     ]
    },
    {
     "data": {
      "image/png": "[encoded data removed]",
      "text/plain": [
       "<Figure size 640x480 with 1 Axes>"
      ]
     },
     "metadata": {},
     "output_type": "display_data"
    }
   ],
   "source": [
    "'''Training and testing a linear SVM using histogram made using SIFT features'''\n",
    "\n",
    "k_vals = [2, 4, 10, 50, 100, 500]\n",
    "accuracies = np.zeros((len(k_vals), 2))\n",
    "\n",
    "extract_sift_features()\n",
    "\n",
    "for k in k_vals:\n",
    "    print(\"\\n\\nk = \", k)\n",
    "    \n",
    "    kmeans = cluster_features(k, train_features)\n",
    "    train_histograms = make_histograms(descriptor_list, kmeans, k)\n",
    "    svm = train_SVM(train_histograms, train_labels)\n",
    "    accuracies[k_vals.index(k), 0] = test_SVM(svm, train_histograms, train_labels, 'Train')\n",
    "\n",
    "    # test the SVM on the test set\n",
    "    test_histograms = make_histograms(descriptor_list_test, kmeans, k)\n",
    "    accuracies[k_vals.index(k), 1] = test_SVM(svm, test_histograms, test_labels, 'Test')\n",
    "\n",
    "plt.plot(k_vals, accuracies[:, 0], label='Train')\n",
    "plt.plot(k_vals, accuracies[:, 1], label='Test')\n",
    "plt.xlabel('Number of clusters')\n",
    "plt.ylabel('Accuracy')\n",
    "plt.title('Accuracy vs Number of clusters')\n",
    "plt.legend()\n",
    "plt.show()"
   ]
  },
  {
   "cell_type": "markdown",
   "metadata": {},
   "source": [
    "### 1.2\n",
    "As we can see from the graph above, for the cluster numbers [2,4,10,50,100,500], we see an increase in the accuracy of the model as the number of clusters increases. Moreover, we also see that the accuracy seems to reach a saturation point. That is, the increase in the accuracy is not as significant as the number of clusters increases for large values of clusters. This can happen when the number of clusters is roughly equal to the different types of descriptors that can be extracted."
   ]
  },
  {
   "cell_type": "code",
   "execution_count": 7,
   "metadata": {},
   "outputs": [],
   "source": [
    "part1_Hyp = []  # each element is a list containing [nfeatures, sigma, c]\n",
    "part1_Hyp.append([0, 1.6, 1.0])\n",
    "part1_Hyp.append([0, 1.6, 0.1])\n",
    "part1_Hyp.append([0, 1.6, 10.0])\n",
    "part1_Hyp.append([0, 0.8, 1.0])\n",
    "part1_Hyp.append([0, 3.2, 1.0])\n",
    "part1_Hyp.append([100, 1.6, 1.0])"
   ]
  },
  {
   "cell_type": "code",
   "execution_count": 8,
   "metadata": {},
   "outputs": [
    {
     "name": "stdout",
     "output_type": "stream",
     "text": [
      "\n",
      "\n",
      "nfeatures =  0  sigma =  1.6  c =  1.0\n",
      "Number of elements in key_point_list :  60000\n",
      "Number of elements in descriptor_list :  60000\n",
      "Number of train features :  (469496, 128)\n",
      "Number of train labels :  (60000,)\n",
      "\n",
      "Number of elements in key_point_list :  10000\n",
      "Number of elements in descriptor_list :  10000\n",
      "Number of test features :  (78515, 128)\n",
      "Number of test labels :  (10000,)\n",
      "\n",
      "Number of cluster centers :  100\n",
      "Dimesion of cluster centers :  128\n",
      "\n",
      "Shape of train histograms :  (60000, 100)\n",
      "\n",
      "Train Accuracy :  0.7305666666666667\n",
      "-------------------------------------\n",
      "Shape of train histograms :  (10000, 100)\n",
      "\n",
      "Test Accuracy :  0.7295\n",
      "-------------------------------------\n",
      "\n",
      "\n",
      "nfeatures =  0  sigma =  1.6  c =  0.1\n",
      "Number of elements in key_point_list :  60000\n",
      "Number of elements in descriptor_list :  60000\n",
      "Number of train features :  (469496, 128)\n",
      "Number of train labels :  (60000,)\n",
      "\n",
      "Number of elements in key_point_list :  10000\n",
      "Number of elements in descriptor_list :  10000\n",
      "Number of test features :  (78515, 128)\n",
      "Number of test labels :  (10000,)\n",
      "\n",
      "Number of cluster centers :  100\n",
      "Dimesion of cluster centers :  128\n",
      "\n",
      "Shape of train histograms :  (60000, 100)\n",
      "\n",
      "Train Accuracy :  0.7305333333333334\n",
      "-------------------------------------\n",
      "Shape of train histograms :  (10000, 100)\n",
      "\n",
      "Test Accuracy :  0.7301\n",
      "-------------------------------------\n",
      "\n",
      "\n",
      "nfeatures =  0  sigma =  1.6  c =  10.0\n",
      "Number of elements in key_point_list :  60000\n",
      "Number of elements in descriptor_list :  60000\n",
      "Number of train features :  (469496, 128)\n",
      "Number of train labels :  (60000,)\n",
      "\n",
      "Number of elements in key_point_list :  10000\n",
      "Number of elements in descriptor_list :  10000\n",
      "Number of test features :  (78515, 128)\n",
      "Number of test labels :  (10000,)\n",
      "\n",
      "Number of cluster centers :  100\n",
      "Dimesion of cluster centers :  128\n",
      "\n",
      "Shape of train histograms :  (60000, 100)\n",
      "\n",
      "Train Accuracy :  0.7306166666666667\n",
      "-------------------------------------\n",
      "Shape of train histograms :  (10000, 100)\n",
      "\n",
      "Test Accuracy :  0.7308\n",
      "-------------------------------------\n",
      "\n",
      "\n",
      "nfeatures =  0  sigma =  0.8  c =  1.0\n",
      "Number of elements in key_point_list :  60000\n",
      "Number of elements in descriptor_list :  60000\n",
      "Number of train features :  (1606974, 128)\n",
      "Number of train labels :  (60000,)\n",
      "\n",
      "Number of elements in key_point_list :  10000\n",
      "Number of elements in descriptor_list :  10000\n",
      "Number of test features :  (263101, 128)\n",
      "Number of test labels :  (10000,)\n",
      "\n",
      "Number of cluster centers :  100\n",
      "Dimesion of cluster centers :  128\n",
      "\n",
      "Shape of train histograms :  (60000, 100)\n",
      "\n"
     ]
    },
    {
     "name": "stderr",
     "output_type": "stream",
     "text": [
      "/home/prani/.local/lib/python3.10/site-packages/sklearn/svm/_base.py:1244: ConvergenceWarning: Liblinear failed to converge, increase the number of iterations.\n",
      "  warnings.warn(\n"
     ]
    },
    {
     "name": "stdout",
     "output_type": "stream",
     "text": [
      "Train Accuracy :  0.7813\n",
      "-------------------------------------\n",
      "Shape of train histograms :  (10000, 100)\n",
      "\n",
      "Test Accuracy :  0.7799\n",
      "-------------------------------------\n",
      "\n",
      "\n",
      "nfeatures =  0  sigma =  3.2  c =  1.0\n",
      "Number of elements in key_point_list :  60000\n",
      "Number of elements in descriptor_list :  60000\n",
      "Number of train features :  (81460, 128)\n",
      "Number of train labels :  (60000,)\n",
      "\n",
      "Number of elements in key_point_list :  10000\n",
      "Number of elements in descriptor_list :  10000\n",
      "Number of test features :  (13944, 128)\n",
      "Number of test labels :  (10000,)\n",
      "\n",
      "Number of cluster centers :  100\n",
      "Dimesion of cluster centers :  128\n",
      "\n",
      "Shape of train histograms :  (60000, 100)\n",
      "\n",
      "Train Accuracy :  0.4821166666666667\n",
      "-------------------------------------\n",
      "Shape of train histograms :  (10000, 100)\n",
      "\n",
      "Test Accuracy :  0.4906\n",
      "-------------------------------------\n",
      "\n",
      "\n",
      "nfeatures =  100  sigma =  1.6  c =  1.0\n",
      "Number of elements in key_point_list :  60000\n",
      "Number of elements in descriptor_list :  60000\n",
      "Number of train features :  (469496, 128)\n",
      "Number of train labels :  (60000,)\n",
      "\n",
      "Number of elements in key_point_list :  10000\n",
      "Number of elements in descriptor_list :  10000\n",
      "Number of test features :  (78515, 128)\n",
      "Number of test labels :  (10000,)\n",
      "\n",
      "Number of cluster centers :  100\n",
      "Dimesion of cluster centers :  128\n",
      "\n",
      "Shape of train histograms :  (60000, 100)\n",
      "\n",
      "Train Accuracy :  0.7303833333333334\n",
      "-------------------------------------\n",
      "Shape of train histograms :  (10000, 100)\n",
      "\n",
      "Test Accuracy :  0.7298\n",
      "-------------------------------------\n"
     ]
    },
    {
     "data": {
      "image/png": "[encoded data removed]",
      "text/plain": [
       "<Figure size 640x480 with 1 Axes>"
      ]
     },
     "metadata": {},
     "output_type": "display_data"
    }
   ],
   "source": [
    "accs = np.zeros((len(part1_Hyp), 2))\n",
    "\n",
    "for hyp in part1_Hyp:\n",
    "    print(\"\\n\\nnfeatures = \", hyp[0], \" sigma = \", hyp[1], \" c = \", hyp[2])\n",
    "    extract_sift_features(hyp[0], hyp[1])\n",
    "    kmeans = cluster_features(100, train_features)\n",
    "    train_histograms = make_histograms(descriptor_list, kmeans, 100)\n",
    "    svm = train_SVM(train_histograms, train_labels, hyp[2])\n",
    "    accs[part1_Hyp.index(hyp), 0] = test_SVM(svm, train_histograms, train_labels, 'Train')\n",
    "\n",
    "    test_histograms = make_histograms(descriptor_list_test, kmeans, 100)\n",
    "    accs[part1_Hyp.index(hyp), 1] = test_SVM(svm, test_histograms, test_labels, 'Test')\n",
    "\n",
    "plt.plot(range(len(part1_Hyp)), accs[:, 0], label='Train')\n",
    "plt.plot(range(len(part1_Hyp)), accs[:, 1], label='Test')\n",
    "plt.xlabel('Hyperparameters')\n",
    "plt.ylabel('Accuracy')\n",
    "plt.title('Accuracy vs Hyperparameters')\n",
    "plt.legend()\n",
    "plt.show()\n"
   ]
  },
  {
   "cell_type": "markdown",
   "metadata": {},
   "source": [
    "### 1.3\n",
    "The features I chose to vary are nfeatures and sigma in sift.create() and c in SVM. nfeatures gives the number of best features to retain. Sigma is the standard deviation of the Gaussian used in the lowest octave in SIFT. Smaller sigma gives more features. Smaller sigma is useful for images taken with weak camera. c is the regularization parameter in SVM. Smaller c gives more regularization. Smaller c is useful when the data is noisy.\n",
    "\n",
    "As can be seen, the first three sets of values give very similar accuracies. So this implies that the value of c is not very important in this case. Also note that the last set also gives a simialr accuracy. This means that the nfeatures is not very important either. \n",
    "\n",
    "But we see an increase in accuracy for a lower value of sigma. This means that the value of sigma is important in this case. This is because a lower value of sigma gives more features and hence more information to the model. This is why the accuracy is higher for a lower value of sigma. Conversely, a higher value of sigma gives less features and hence less information to the model. This is why the accuracy is lower for a higher value of sigma."
   ]
  },
  {
   "cell_type": "markdown",
   "metadata": {},
   "source": [
    "# Part 2: CNNs and Transformers"
   ]
  },
  {
   "cell_type": "code",
   "execution_count": 9,
   "metadata": {},
   "outputs": [
    {
     "name": "stdout",
     "output_type": "stream",
     "text": [
      "Using device: cuda\n"
     ]
    }
   ],
   "source": [
    "device = torch.device('cuda' if torch.cuda.is_available() else 'cpu')\n",
    "print('Using device:', device)\n",
    "\n",
    "isSubset = True\n",
    "num_samples_per_class = 600\n",
    "\n",
    "# get the dataset and transform the images to tensors and normalize them\n",
    "transform = transforms.Compose([transforms.ToTensor(), transforms.Normalize((0.5,), (0.5,))])\n",
    "mnist_train = datasets.MNIST(root='./datasets', train=True, download=True, transform=transform)\n",
    "mnist_test = datasets.MNIST(root='./datasets', train=False, download=True, transform=transform)\n",
    "\n",
    "def split_dataset(mnist_train, num_samples_per_class=1000):\n",
    "    # Split the dataset into separate subsets for each class\n",
    "    class_subsets = [[] for _ in range(10)]\n",
    "    for i in range(len(mnist_train)):\n",
    "        image, label = mnist_train[i]\n",
    "        class_subsets[label].append(i)\n",
    "\n",
    "    # Take a fixed number of samples from each class subset\n",
    "    balanced_subset_indices = []\n",
    "    for class_subset in class_subsets:\n",
    "        selected_indices = np.random.choice(class_subset, size=num_samples_per_class, replace=False)\n",
    "        balanced_subset_indices.extend(selected_indices)\n",
    "\n",
    "    # Create a Subset of the MNIST dataset with the balanced subset indices\n",
    "    balanced_subset = torch.utils.data.Subset(mnist_train, balanced_subset_indices)\n",
    "    return balanced_subset\n",
    "\n",
    "if isSubset:\n",
    "    mnist_train = split_dataset(mnist_train, num_samples_per_class)"
   ]
  },
  {
   "cell_type": "code",
   "execution_count": 10,
   "metadata": {},
   "outputs": [],
   "source": [
    "'''Models'''\n",
    "# LeNet\n",
    "class LeNet(torch.nn.Module):\n",
    "    def __init__(self, num_classes=10):\n",
    "        super(LeNet, self).__init__()\n",
    "        \n",
    "        # feature extraction\n",
    "        self.features = torch.nn.Sequential(\n",
    "            torch.nn.Conv2d(1, 6, kernel_size=5, padding=2),    # 28x28@1 -> 28x28@6\n",
    "            torch.nn.ReLU(),                                    # activation function\n",
    "            torch.nn.MaxPool2d(kernel_size=2),                  # 28x28@6 -> 14x14@6\n",
    "            torch.nn.Conv2d(6, 16, kernel_size=5),              # 14x14@6 -> 10x10@16\n",
    "            torch.nn.ReLU(),                                    # activation function\n",
    "            torch.nn.MaxPool2d(kernel_size=2)                   # 10x10@16 -> 5x5@16\n",
    "        )\n",
    "\n",
    "        # classifier\n",
    "        self.classifier = torch.nn.Sequential(\n",
    "            torch.nn.Linear(16*5*5, 120),                       # 16*5*5 -> 120\n",
    "            torch.nn.ReLU(),                                    # activation function\n",
    "            torch.nn.Linear(120, 84),                           # 120 -> 84\n",
    "            torch.nn.ReLU(),                                    # activation function\n",
    "            torch.nn.Linear(84, num_classes)                    # 84 -> 10\n",
    "        )\n",
    "\n",
    "    def forward(self, x):\n",
    "        x = self.features(x)\n",
    "        x = torch.flatten(x, 1)\n",
    "        probs = self.classifier(x)\n",
    "        probs = torch.nn.functional.softmax(probs, dim=-1)\n",
    "        return probs\n",
    "\n",
    "# LeNet with double the number of convolutional layers\n",
    "class LeNet_Double(torch.nn.Module):\n",
    "    def __init__(self, num_classes=10):\n",
    "        super(LeNet_Double, self).__init__()\n",
    "        \n",
    "        # feature extraction\n",
    "        self.features = torch.nn.Sequential(\n",
    "            torch.nn.Conv2d(1, 6, kernel_size=5, padding=2),    # 28x28@1 -> 28x28@6\n",
    "            torch.nn.ReLU(),                                    # activation function\n",
    "            torch.nn.Conv2d(6, 8, kernel_size=5, padding=2),    # 28x28@6 -> 28x28@8\n",
    "            torch.nn.ReLU(),                                    # activation function\n",
    "            torch.nn.MaxPool2d(kernel_size=2),                  # 28x28@8 -> 14x14@8\n",
    "            torch.nn.Conv2d(8, 12, kernel_size=5, padding=2),   # 14x14@8 -> 14x14@12\n",
    "            torch.nn.ReLU(),                                    # activation function\n",
    "            torch.nn.Conv2d(12, 16, kernel_size=5),             # 14x14@12 -> 10x10@16\n",
    "            torch.nn.ReLU(),                                    # activation function\n",
    "            torch.nn.MaxPool2d(kernel_size=2)                   # 10x10@16 -> 5x5@16\n",
    "        )\n",
    "\n",
    "        # classifier\n",
    "        self.classifier = torch.nn.Sequential(\n",
    "            torch.nn.Linear(16*5*5, 120),                       # 16*5*5 -> 120\n",
    "            torch.nn.ReLU(),                                    # activation function\n",
    "            torch.nn.Linear(120, 84),                           # 120 -> 84\n",
    "            torch.nn.ReLU(),                                    # activation function\n",
    "            torch.nn.Linear(84, num_classes)                    # 84 -> 10\n",
    "        )\n",
    "\n",
    "    def forward(self, x):\n",
    "        x = self.features(x)\n",
    "        x = torch.flatten(x, 1)\n",
    "        probs = self.classifier(x)\n",
    "        probs = torch.nn.functional.softmax(probs, dim=-1)\n",
    "        return probs\n",
    "\n",
    "# Basice ViT model with 2 transformer layers\n",
    "class TransformerModel(torch.nn.Module):\n",
    "    def __init__(self):\n",
    "        super(TransformerModel, self).__init__()\n",
    "        self.patch_size = 7\n",
    "        patch_dim = self.patch_size * self.patch_size\n",
    "        num_patches = 16\n",
    "        self.emb_size = 128\n",
    "\n",
    "        self.patch_embed = torch.nn.Linear(patch_dim, self.emb_size)\n",
    "        self.position_embed = torch.nn.Parameter(torch.randn(1, num_patches + 1, self.emb_size))\n",
    "        self.cls_token = torch.nn.Parameter(torch.randn(1, 1, self.emb_size))\n",
    "        self.transfromer_encoder_layer = torch.nn.TransformerEncoderLayer(d_model=self.emb_size, nhead=8, batch_first=True)\n",
    "        self.transfromer_encoder = torch.nn.TransformerEncoder(self.transfromer_encoder_layer, num_layers=2)\n",
    "\n",
    "        self.classifier = torch.nn.Sequential(\n",
    "            torch.nn.Linear(self.emb_size, 256),\n",
    "            torch.nn.ReLU(),\n",
    "            torch.nn.Linear(256, 10),\n",
    "            torch.nn.Softmax(dim=1)\n",
    "        )\n",
    "    \n",
    "    def forward(self, x):\n",
    "        # x is of shape (batch_size, 1, 28, 28)\n",
    "        batch_size, _, _, _ = x.shape\n",
    "        # convert to (batch_size, 16, 7, 7) ie 16 patches of size 7x7\n",
    "        x = rearrange(x, 'b c (h p1) (w p2) -> b (h w) (p1 p2 c)', p1=self.patch_size, p2=self.patch_size)\n",
    "        \n",
    "        # get embeddings for the patches\n",
    "        x = self.patch_embed(x)\n",
    "\n",
    "        # adding the classification token\n",
    "        cls_tokens = self.cls_token.expand(batch_size, -1, -1)\n",
    "        x = torch.cat((cls_tokens, x), dim=1)\n",
    "\n",
    "        # adding position embedding\n",
    "        x += self.position_embed\n",
    "        x = self.transfromer_encoder(x)\n",
    "\n",
    "        x = x[:, 0, :]\n",
    "        probs = self.classifier(x)\n",
    "        return probs"
   ]
  },
  {
   "cell_type": "code",
   "execution_count": 11,
   "metadata": {},
   "outputs": [],
   "source": [
    "# Data loaders\n",
    "def use_data_loader(config):\n",
    "    train_loader = torch.utils.data.DataLoader(mnist_train, batch_size=config.batch_size, shuffle=True, num_workers=4)\n",
    "    test_loader = torch.utils.data.DataLoader(mnist_test, batch_size=config.batch_size, shuffle=False, num_workers=4)\n",
    "    return train_loader, test_loader"
   ]
  },
  {
   "cell_type": "code",
   "execution_count": 12,
   "metadata": {},
   "outputs": [],
   "source": [
    "def train_and_test_model(model, train_loader, test_loader, criterion, optimizer, config):\n",
    "    # Training\n",
    "    for epoch in range(config.epochs):\n",
    "        model.train()\n",
    "        train_loss = 0.0\n",
    "        train_acc = 0.0\n",
    "        for inputs, labels in train_loader:\n",
    "            inputs, labels = inputs.to(device), labels.to(device)\n",
    "            # forward and backward pass\n",
    "            optimizer.zero_grad()\n",
    "            outputs = model(inputs)\n",
    "            loss = criterion(outputs, labels)\n",
    "            loss.backward()\n",
    "            # parameter update\n",
    "            optimizer.step()\n",
    "            # loss calculation\n",
    "            train_loss += loss.item() * inputs.size(0)\n",
    "            _, preds = torch.max(outputs, 1)\n",
    "            train_acc += torch.sum(preds == labels.data)\n",
    "\n",
    "        # calculate average loss and accuracy\n",
    "        train_loss = train_loss / len(mnist_train)\n",
    "        train_acc = train_acc.double() / len(mnist_train)\n",
    "        print(f'Epoch {epoch+1}/{config.epochs}, Train Loss: {train_loss:.4f}, Train Acc: {train_acc:.4f}')\n",
    "\n",
    "        # Testing\n",
    "        model.eval()\n",
    "        test_loss = 0.0\n",
    "        test_acc = 0.0\n",
    "        for inputs, labels in test_loader:\n",
    "            inputs, labels = inputs.to(device), labels.to(device)\n",
    "            outputs = model(inputs)\n",
    "            loss = criterion(outputs, labels)\n",
    "            test_loss += loss.item() * inputs.size(0)\n",
    "            _, preds = torch.max(outputs, 1)\n",
    "            test_acc += torch.sum(preds == labels.data)\n",
    "\n",
    "        # calculate average loss and accuracy\n",
    "        test_loss = test_loss / len(mnist_test)\n",
    "        test_acc = test_acc.double() / len(mnist_test)\n",
    "        print(f'Epoch {epoch+1}/{config.epochs}, Test Loss: {test_loss:.4f}, Test Acc: {test_acc:.4f}')\n",
    "\n",
    "        # Log the loss and accuracy values at the end of each epoch\n",
    "        wandb.log({\n",
    "            \"Epoch\": epoch,\n",
    "            \"Train Loss\": train_loss,\n",
    "            \"Train Accuracy\": train_acc,\n",
    "            \"Test Loss\": test_loss,\n",
    "            \"Test Accuracy\": test_acc\n",
    "        })\n",
    "\n",
    "    # Finish the run\n",
    "    wandb.finish()"
   ]
  },
  {
   "cell_type": "code",
   "execution_count": 13,
   "metadata": {},
   "outputs": [],
   "source": [
    "# 8 different hyperparameter settings\n",
    "hyp_set = []\n",
    "hyp_set.append(dict(learning_rate=0.01, batch_size=64, epochs=10, optimizer='adam', random_seed=42, name='hyp1'))\n",
    "hyp_set.append(dict(learning_rate=0.01, batch_size=64, epochs=10, optimizer='sgd', random_seed=42, name='hyp2'))\n",
    "hyp_set.append(dict(learning_rate=0.01, batch_size=128, epochs=10, optimizer='adam', random_seed=42, name='hyp3'))\n",
    "hyp_set.append(dict(learning_rate=0.01, batch_size=128, epochs=10, optimizer='sgd', random_seed=42, name='hyp4'))\n",
    "hyp_set.append(dict(learning_rate=0.001, batch_size=64, epochs=10, optimizer='adam', random_seed=42, name='hyp5'))\n",
    "hyp_set.append(dict(learning_rate=0.001, batch_size=64, epochs=10, optimizer='sgd', random_seed=42, name='hyp6'))\n",
    "hyp_set.append(dict(learning_rate=0.001, batch_size=128, epochs=10, optimizer='adam', random_seed=42, name='hyp7'))\n",
    "hyp_set.append(dict(learning_rate=0.001, batch_size=128, epochs=10, optimizer='sgd', random_seed=42, name='hyp8'))\n",
    "\n",
    "trans_config = dict(learning_rate=0.0001, batch_size=128, epochs=15, optimizer='adam', random_seed=42, name='ViT')"
   ]
  },
  {
   "cell_type": "code",
   "execution_count": 14,
   "metadata": {},
   "outputs": [],
   "source": [
    "# initialize the model\n",
    "\n",
    "# LeNet model\n",
    "model = LeNet().to(device)\n",
    "\n",
    "# uncomment the following 2 lines to use the double LeNet model\n",
    "# model_double = LeNet_Double().to(device)\n",
    "# model = model_double\n",
    "\n",
    "# uncomment the following 2 lines to use the ViT model and change the config to trans_config\n",
    "trnsfmr_model = TransformerModel().to(device)\n",
    "model = trnsfmr_model"
   ]
  },
  {
   "cell_type": "code",
   "execution_count": 15,
   "metadata": {},
   "outputs": [
    {
     "name": "stderr",
     "output_type": "stream",
     "text": [
      "Failed to detect the name of this notebook, you can set it manually with the WANDB_NOTEBOOK_NAME environment variable to enable code saving.\n",
      "\u001b[34m\u001b[1mwandb\u001b[0m: Currently logged in as: \u001b[33mmulukutla-p\u001b[0m (\u001b[33mmkp\u001b[0m). Use \u001b[1m`wandb login --relogin`\u001b[0m to force relogin\n"
     ]
    },
    {
     "data": {
      "text/html": [
       "wandb version 0.16.4 is available!  To upgrade, please run:\n",
       " $ pip install wandb --upgrade"
      ],
      "text/plain": [
       "<IPython.core.display.HTML object>"
      ]
     },
     "metadata": {},
     "output_type": "display_data"
    },
    {
     "data": {
      "text/html": [
       "Tracking run with wandb version 0.14.0"
      ],
      "text/plain": [
       "<IPython.core.display.HTML object>"
      ]
     },
     "metadata": {},
     "output_type": "display_data"
    },
    {
     "data": {
      "text/html": [
       "Run data is saved locally in <code>/home/prani/academics/fourth_year_sem2/cv/assi2/wandb/run-20240309_190644-fk03pu4l</code>"
      ],
      "text/plain": [
       "<IPython.core.display.HTML object>"
      ]
     },
     "metadata": {},
     "output_type": "display_data"
    },
    {
     "data": {
      "text/html": [
       "Syncing run <strong><a href='https://wandb.ai/mkp/cv-assi2/runs/fk03pu4l' target=\"_blank\">ViT</a></strong> to <a href='https://wandb.ai/mkp/cv-assi2' target=\"_blank\">Weights & Biases</a> (<a href='https://wandb.me/run' target=\"_blank\">docs</a>)<br/>"
      ],
      "text/plain": [
       "<IPython.core.display.HTML object>"
      ]
     },
     "metadata": {},
     "output_type": "display_data"
    },
    {
     "data": {
      "text/html": [
       " View project at <a href='https://wandb.ai/mkp/cv-assi2' target=\"_blank\">https://wandb.ai/mkp/cv-assi2</a>"
      ],
      "text/plain": [
       "<IPython.core.display.HTML object>"
      ]
     },
     "metadata": {},
     "output_type": "display_data"
    },
    {
     "data": {
      "text/html": [
       " View run at <a href='https://wandb.ai/mkp/cv-assi2/runs/fk03pu4l' target=\"_blank\">https://wandb.ai/mkp/cv-assi2/runs/fk03pu4l</a>"
      ],
      "text/plain": [
       "<IPython.core.display.HTML object>"
      ]
     },
     "metadata": {},
     "output_type": "display_data"
    }
   ],
   "source": [
    "# Hyperparameters\n",
    "config = trans_config\n",
    "\n",
    "############ imp : change the config to the desired hyperparameters based on the model you are using ############\n",
    "\n",
    "# Initialize a new wandb run\n",
    "wandb.init(project=\"cv-assi2\", config=config, name=config['name'])\n",
    "\n",
    "# Config is a variable that holds and saves hyperparameters and inputs\n",
    "config = wandb.config\n",
    "\n",
    "# Loss function\n",
    "criterion = torch.nn.CrossEntropyLoss()\n",
    "\n",
    "# Optimizer\n",
    "if config.optimizer == 'adam':\n",
    "    optimizer = torch.optim.Adam(model.parameters(), lr=config.learning_rate)\n",
    "else:\n",
    "    optimizer = torch.optim.SGD(model.parameters(), lr=config.learning_rate)"
   ]
  },
  {
   "cell_type": "code",
   "execution_count": 16,
   "metadata": {},
   "outputs": [
    {
     "name": "stdout",
     "output_type": "stream",
     "text": [
      "Epoch 1/15, Train Loss: 2.2990, Train Acc: 0.1342\n",
      "Epoch 1/15, Test Loss: 2.2723, Test Acc: 0.2536\n",
      "Epoch 2/15, Train Loss: 2.1580, Train Acc: 0.4448\n",
      "Epoch 2/15, Test Loss: 1.9654, Test Acc: 0.6473\n",
      "Epoch 3/15, Train Loss: 1.9041, Train Acc: 0.6728\n",
      "Epoch 3/15, Test Loss: 1.7770, Test Acc: 0.7461\n",
      "Epoch 4/15, Train Loss: 1.7595, Train Acc: 0.7717\n",
      "Epoch 4/15, Test Loss: 1.6764, Test Acc: 0.8229\n",
      "Epoch 5/15, Train Loss: 1.6974, Train Acc: 0.8005\n",
      "Epoch 5/15, Test Loss: 1.6461, Test Acc: 0.8332\n",
      "Epoch 6/15, Train Loss: 1.6680, Train Acc: 0.8200\n",
      "Epoch 6/15, Test Loss: 1.6109, Test Acc: 0.8846\n",
      "Epoch 7/15, Train Loss: 1.6202, Train Acc: 0.8790\n",
      "Epoch 7/15, Test Loss: 1.5778, Test Acc: 0.9060\n",
      "Epoch 8/15, Train Loss: 1.5963, Train Acc: 0.8902\n",
      "Epoch 8/15, Test Loss: 1.5638, Test Acc: 0.9138\n",
      "Epoch 9/15, Train Loss: 1.5806, Train Acc: 0.9017\n",
      "Epoch 9/15, Test Loss: 1.5564, Test Acc: 0.9158\n",
      "Epoch 10/15, Train Loss: 1.5675, Train Acc: 0.9085\n",
      "Epoch 10/15, Test Loss: 1.5463, Test Acc: 0.9241\n",
      "Epoch 11/15, Train Loss: 1.5631, Train Acc: 0.9103\n",
      "Epoch 11/15, Test Loss: 1.5437, Test Acc: 0.9250\n",
      "Epoch 12/15, Train Loss: 1.5529, Train Acc: 0.9193\n",
      "Epoch 12/15, Test Loss: 1.5389, Test Acc: 0.9280\n",
      "Epoch 13/15, Train Loss: 1.5452, Train Acc: 0.9273\n",
      "Epoch 13/15, Test Loss: 1.5324, Test Acc: 0.9349\n",
      "Epoch 14/15, Train Loss: 1.5413, Train Acc: 0.9303\n",
      "Epoch 14/15, Test Loss: 1.5300, Test Acc: 0.9367\n",
      "Epoch 15/15, Train Loss: 1.5415, Train Acc: 0.9292\n",
      "Epoch 15/15, Test Loss: 1.5282, Test Acc: 0.9368\n"
     ]
    },
    {
     "data": {
      "text/html": [
       "Waiting for W&B process to finish... <strong style=\"color:green\">(success).</strong>"
      ],
      "text/plain": [
       "<IPython.core.display.HTML object>"
      ]
     },
     "metadata": {},
     "output_type": "display_data"
    },
    {
     "data": {
      "text/html": [
       "<style>\n",
       "    table.wandb td:nth-child(1) { padding: 0 10px; text-align: left ; width: auto;} td:nth-child(2) {text-align: left ; width: 100%}\n",
       "    .wandb-row { display: flex; flex-direction: row; flex-wrap: wrap; justify-content: flex-start; width: 100% }\n",
       "    .wandb-col { display: flex; flex-direction: column; flex-basis: 100%; flex: 1; padding: 10px; }\n",
       "    </style>\n",
       "<div class=\"wandb-row\"><div class=\"wandb-col\"><h3>Run history:</h3><br/><table class=\"wandb\"><tr><td>Epoch</td><td>▁▁▂▃▃▃▄▅▅▅▆▇▇▇█</td></tr><tr><td>Test Accuracy</td><td>▁▅▆▇▇▇█████████</td></tr><tr><td>Test Loss</td><td>█▅▃▂▂▂▁▁▁▁▁▁▁▁▁</td></tr><tr><td>Train Accuracy</td><td>▁▄▆▇▇▇█████████</td></tr><tr><td>Train Loss</td><td>█▇▄▃▂▂▂▂▁▁▁▁▁▁▁</td></tr></table><br/></div><div class=\"wandb-col\"><h3>Run summary:</h3><br/><table class=\"wandb\"><tr><td>Epoch</td><td>14</td></tr><tr><td>Test Accuracy</td><td>0.9368</td></tr><tr><td>Test Loss</td><td>1.52822</td></tr><tr><td>Train Accuracy</td><td>0.92917</td></tr><tr><td>Train Loss</td><td>1.54152</td></tr></table><br/></div></div>"
      ],
      "text/plain": [
       "<IPython.core.display.HTML object>"
      ]
     },
     "metadata": {},
     "output_type": "display_data"
    },
    {
     "data": {
      "text/html": [
       " View run <strong style=\"color:#cdcd00\">ViT</strong> at: <a href='https://wandb.ai/mkp/cv-assi2/runs/fk03pu4l' target=\"_blank\">https://wandb.ai/mkp/cv-assi2/runs/fk03pu4l</a><br/>Synced 5 W&B file(s), 0 media file(s), 0 artifact file(s) and 0 other file(s)"
      ],
      "text/plain": [
       "<IPython.core.display.HTML object>"
      ]
     },
     "metadata": {},
     "output_type": "display_data"
    },
    {
     "data": {
      "text/html": [
       "Find logs at: <code>./wandb/run-20240309_190644-fk03pu4l/logs</code>"
      ],
      "text/plain": [
       "<IPython.core.display.HTML object>"
      ]
     },
     "metadata": {},
     "output_type": "display_data"
    }
   ],
   "source": [
    "# load data and train and test the model\n",
    "train_loader, test_loader = use_data_loader(config)\n",
    "train_and_test_model(model, train_loader, test_loader, criterion, optimizer, config)"
   ]
  },
  {
   "cell_type": "markdown",
   "metadata": {},
   "source": [
    "### Q 2.2\n",
    "\n",
    "Here is the link to the WandB Report on this. [WandB Report 2.2](https://wandb.ai/mkp/cv-assi2/reports/CNN-Hyperparameter-Comparison--Vmlldzo3MDc4MTA5?accessToken=5ewsjxvzmhlv7rdao4xbjova1irk25agn9ghx107xyrfmd7bh117ydnq7tt7vsjz)\n",
    "\n",
    "As we can see clearly, the combination of optimizer with the learning rate is extremely important. More so in the case of SGD than Adam optimizer. Whenever SGD is paired with a learning rate of 0.001, the accuracy is very low. This is because the learning rate is too low for the optimizer to learn. Conversely, whenever Adam is paired with a learning rate of 0.01, it is a comparatively lower accuracy than when learning rate is 0.001. This is because the learning rate is too high for the optimizer to learn.\n",
    "\n",
    "Other than this, a change in batch size from 64 to 128 does not seem to have a significant impact on the accuracy. But more radical changes might indeed have an impact. Noticed that faster convergence is observed with a higher batch size. This is because the model is updated less frequently and hence the convergence is faster.\n",
    "\n",
    "So I would say that the learning rate is the most important hyperparameter in this case, when paired with a particular optimizer.\n"
   ]
  },
  {
   "cell_type": "markdown",
   "metadata": {},
   "source": [
    "### Q 2.3\n",
    "\n",
    "The best CNN model gives an accuracy of 0.98 on the test set. This is far better than the best accuracy of 0.85 achieved by the best BoVW model (500 clusters) using SIFT features. \n",
    "\n",
    "Also note that using GPU, the CNN model takes only 1 minute to train, whereas the BoVW model takes 3 minutes to train for 100 clusters. This is a significant difference in training time and CNN is better in this aspect also.\n",
    "\n",
    "With perfect hyperparameters, SIFT-BoVW might approach the accuracy of CNN at high number of clusters, but CNN is still better in terms of training time and ease of use. Generally, CNN performs better because it is more parametrized than SIft-BoVW."
   ]
  },
  {
   "cell_type": "markdown",
   "metadata": {},
   "source": [
    "### Q 2.4\n",
    "\n",
    "Link to the WandB Report on this. [WandB Report 2.4](https://wandb.ai/mkp/cv-assi2/reports/Doubling-Convolutional-Layers--Vmlldzo3MDc5MDI2?accessToken=qn68veo76mc4pd1cj7ge95184sf9kkt65x87oj7mq9jfozg9iz1zud7c15x2ueb0)\n",
    "\n",
    "As we can see, the accuracy for double the convolutional layers is very similar to the accuracy for the original model. This is because the original model is already complex enough to capture the features in the data. Adding more convolutional layers does not add much to the model. This is why the accuracy is similar to the original model.\n",
    "\n",
    "It might be a different case if the dataset were more complex and had more features. In that case, the original model might not be complex enough to capture the features in the data. In that case, adding more convolutional layers might increase the accuracy of the model."
   ]
  },
  {
   "cell_type": "markdown",
   "metadata": {},
   "source": [
    "### Q 2.5\n",
    "\n",
    "Link to the WandB Report on this. [WandB Report 2.5](https://api.wandb.ai/links/mkp/7ry00jzd)\n",
    "\n",
    "As we can see from the accuracies, the 0.6K has accuracy of 0.812, 1.8K has an accuracy of 0.94, 6.0K has accuracy of 0.96, 18K has accuracy of 0.97, whereas the accuracy for 60K was 0.98. This shows that the increase in accuracy is not as significant after a few thousand images. This is also like a saturation point, where increasing the training sample size does not increase the accuracy significantly. This is because the model has already seen enough data to learn the features in the data. This is why the accuracy is not increasing significantly after a few thousand images."
   ]
  },
  {
   "cell_type": "markdown",
   "metadata": {},
   "source": [
    "### Q 2.6\n",
    "\n",
    "Link to the WandB Report on this. [WandB Report 2.6 ViT vs LeNet](https://wandb.ai/mkp/cv-assi2/reports/ViT-vs-LeNet--Vmlldzo3MDg3Njg5?accessToken=5c3udegnl6rvn87nvc57q98cwdwgbpyybeit1elcg0l58s86fc65rjqp4rg8dhxp) and [WandB Report 2.6 ViT_60K vs ViT_6K](https://wandb.ai/mkp/cv-assi2/reports/ViT-with-subset-of-MNIST--Vmlldzo3MDg3ODY4?accessToken=v7d6v0evx8nd2xvnnud8pel29dnwkotki1spz00wkdyn1fwsqctsga9abh1eoui3)\n",
    "\n",
    "From the first report, we see how this ViT model compares to LeNET (CNN). Note that I ran ViT for 15 epochs since the convergence was not complete at 10 epochs. We see that the accuracy of ViT is 0.97, very close to the accuracy of LeNet which is 0.98. This shows that ViT is a very good model for image classification, and is comparable to CNN. But note that ViT took 2 minutes to train, whereas LeNet took 1 minute to train. This is a somewhat significant difference in training time.\n",
    "\n",
    "So we see that ViT is a fairly good model for image classification.\n",
    "\n",
    "From the second report, we see that ViT_60K has an accuracy of 0.97, whereas, ViT_6K has an accuracy of 0.93. In contrast, LeNet Model with 6K images gave an accuracy of 0.96. \n",
    "\n",
    "This shows that ViT requires more data to train than LeNet. There is still some difference in accuracy between ViT_60K and and ViT_6K, but the difference is not much between LeNet_6K and LeNet_60K. This could be due to multiple reasons, like the choice of patch size, the number of layers, embeddings, etc. "
   ]
  }
 ],
 "metadata": {
  "kernelspec": {
   "display_name": "Python 3",
   "language": "python",
   "name": "python3"
  },
  "language_info": {
   "codemirror_mode": {
    "name": "ipython",
    "version": 3
   },
   "file_extension": ".py",
   "mimetype": "text/x-python",
   "name": "python",
   "nbconvert_exporter": "python",
   "pygments_lexer": "ipython3",
   "version": "3.10.12"
  }
 },
 "nbformat": 4,
 "nbformat_minor": 2
}
