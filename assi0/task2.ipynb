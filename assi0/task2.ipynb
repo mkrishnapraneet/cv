{
 "cells": [
  {
   "cell_type": "code",
   "execution_count": 5,
   "metadata": {},
   "outputs": [],
   "source": [
    "import cv2\n",
    "import glob\n",
    "import numpy as np"
   ]
  },
  {
   "cell_type": "code",
   "execution_count": 6,
   "metadata": {},
   "outputs": [],
   "source": [
    "# video capture object \n",
    "vid = cv2.VideoCapture(0) \n",
    "counter = 0\n",
    "while(True): \n",
    "\t\n",
    "\t# Capture the video frame \n",
    "\tret, frame = vid.read() \n",
    "\n",
    "\t# Display the resulting frame \n",
    "\tcv2.imshow('frame', frame) \n",
    "\n",
    "\t# save frame as jpg file\n",
    "\tcv2.imwrite('./webcam/frame' + str(counter) + '.jpg', frame)\n",
    "\tcounter += 1\n",
    "\n",
    "\t# press 'q' to quit\n",
    "\tif cv2.waitKey(1) & 0xFF == ord('q'): \n",
    "\t\tbreak\n",
    "\n",
    "vid.release() \n",
    "cv2.destroyAllWindows() \n"
   ]
  },
  {
   "cell_type": "code",
   "execution_count": null,
   "metadata": {},
   "outputs": [],
   "source": []
  }
 ],
 "metadata": {
  "kernelspec": {
   "display_name": "Python 3",
   "language": "python",
   "name": "python3"
  },
  "language_info": {
   "codemirror_mode": {
    "name": "ipython",
    "version": 3
   },
   "file_extension": ".py",
   "mimetype": "text/x-python",
   "name": "python",
   "nbconvert_exporter": "python",
   "pygments_lexer": "ipython3",
   "version": "3.10.12"
  }
 },
 "nbformat": 4,
 "nbformat_minor": 2
}
