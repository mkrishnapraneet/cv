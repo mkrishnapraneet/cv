{
 "cells": [
  {
   "cell_type": "code",
   "execution_count": 1,
   "metadata": {},
   "outputs": [],
   "source": [
    "import cv2\n",
    "import glob\n",
    "import numpy as np"
   ]
  },
  {
   "cell_type": "code",
   "execution_count": 2,
   "metadata": {},
   "outputs": [],
   "source": [
    "video = cv2.VideoCapture(\"./webcam/compiled_video.mp4\") \n",
    "image = cv2.imread(\"./kisshot_acerola_orion.png\") \n",
    "while True: \n",
    "\n",
    "    ret, frame = video.read() \n",
    "\n",
    "    if not ret:\n",
    "        break\n",
    "\n",
    "    frame = cv2.resize(frame, (640, 480)) \n",
    "    image = cv2.resize(image, (640, 480)) \n",
    "\n",
    "\n",
    "    u_green = np.array([104, 153, 70]) \n",
    "    l_green = np.array([30, 30, 0]) \n",
    "\n",
    "    mask = cv2.inRange(frame, l_green, u_green) \n",
    "    res = cv2.bitwise_and(frame, frame, mask = mask) \n",
    "\n",
    "    f = frame - res \n",
    "    f = np.where(f == 0, image, f) \n",
    "\n",
    "    cv2.imshow(\"video\", frame) \n",
    "    cv2.imshow(\"mask\", f) \n",
    "\n",
    "    # if cv2.waitKey(25) == 27: \n",
    "        # break\n",
    "\t\n",
    "    if cv2.waitKey(1) & 0xFF == ord('q'): \n",
    "        break\n",
    "\n",
    "video.release() \n",
    "cv2.destroyAllWindows() \n"
   ]
  },
  {
   "cell_type": "code",
   "execution_count": null,
   "metadata": {},
   "outputs": [],
   "source": []
  }
 ],
 "metadata": {
  "kernelspec": {
   "display_name": "Python 3",
   "language": "python",
   "name": "python3"
  },
  "language_info": {
   "codemirror_mode": {
    "name": "ipython",
    "version": 3
   },
   "file_extension": ".py",
   "mimetype": "text/x-python",
   "name": "python",
   "nbconvert_exporter": "python",
   "pygments_lexer": "ipython3",
   "version": "3.10.12"
  }
 },
 "nbformat": 4,
 "nbformat_minor": 2
}
