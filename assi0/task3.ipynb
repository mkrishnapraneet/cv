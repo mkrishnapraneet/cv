{
 "cells": [
  {
   "cell_type": "code",
   "execution_count": 15,
   "metadata": {},
   "outputs": [],
   "source": [
    "import cv2\n",
    "import glob\n",
    "import numpy as np"
   ]
  },
  {
   "cell_type": "code",
   "execution_count": 16,
   "metadata": {},
   "outputs": [],
   "source": [
    "video1 = cv2.VideoCapture(\"./greenPC.mp4\") \n",
    "# image = cv2.imread(\"./kisshot_acerola_orion.png\") \n",
    "video2 = cv2.VideoCapture(\"./webcam/compiled_video.mp4\")\n",
    "\n",
    "out = cv2.VideoWriter('task3_output.mp4',cv2.VideoWriter_fourcc(*'mp4v'), 20, (640,480))\n",
    "\n",
    "while True: \n",
    "\n",
    "    ret1, frame1 = video1.read() \n",
    "    ret2, image = video2.read()\n",
    "\n",
    "    if not (ret1 and ret2):\n",
    "        break\n",
    "\n",
    "    frame1 = cv2.resize(frame1, (640, 480)) \n",
    "    image = cv2.resize(image, (640, 480)) \n",
    "\n",
    "    u_green = np.array([150, 230, 150]) \n",
    "    l_green = np.array([0, 170, 0]) \n",
    "\n",
    "    mask = cv2.inRange(frame1, l_green, u_green) \n",
    "    res = cv2.bitwise_and(frame1, frame1, mask = mask) \n",
    "\n",
    "    f = frame1 - res \n",
    "    f = np.where(f == 0, image, f) \n",
    "\n",
    "    cv2.imshow(\"video1\", frame1) \n",
    "    cv2.imshow(\"mask\", f) \n",
    "\n",
    "    out.write(f)\n",
    "\n",
    "    if cv2.waitKey(20) == 27: \n",
    "        break\n",
    "\t\n",
    "    if cv2.waitKey(1) & 0xFF == ord('q'): \n",
    "        break\n",
    "\n",
    "video1.release() \n",
    "if cv2.waitKey(0) & 0xFF == ord('q'):\n",
    "    cv2.destroyAllWindows() \n",
    "video2.release()\n"
   ]
  },
  {
   "cell_type": "code",
   "execution_count": null,
   "metadata": {},
   "outputs": [],
   "source": []
  }
 ],
 "metadata": {
  "kernelspec": {
   "display_name": "Python 3",
   "language": "python",
   "name": "python3"
  },
  "language_info": {
   "codemirror_mode": {
    "name": "ipython",
    "version": 3
   },
   "file_extension": ".py",
   "mimetype": "text/x-python",
   "name": "python",
   "nbconvert_exporter": "python",
   "pygments_lexer": "ipython3",
   "version": "3.10.12"
  }
 },
 "nbformat": 4,
 "nbformat_minor": 2
}
